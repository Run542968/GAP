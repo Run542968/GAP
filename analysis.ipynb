{
 "cells": [
  {
   "cell_type": "code",
   "execution_count": 11,
   "metadata": {},
   "outputs": [
    {
     "name": "stdout",
     "output_type": "stream",
     "text": [
      "[  0.           0.           0.         ... 266.971      277.76528327\n",
      " 300.31687075]\n",
      "[  1.10205717   2.06666667   2.33566667 ... 360.36       619.26666667\n",
      " 745.44      ]\n",
      "117.70481736230505\n"
     ]
    }
   ],
   "source": [
    "import json\n",
    "import numpy as np\n",
    "\n",
    "# anno = json.load(open('data/Thumos14/Thumos14_annotations.json'))\n",
    "anno = json.load(open('data/ActivityNet13/ActivityNet13_annotations.json'))\n",
    "video_anno = anno['database']\n",
    "list_duration = []\n",
    "list_seg = []\n",
    "count = 0\n",
    "for vn, annos in video_anno.items():\n",
    "    if annos['subset'] == \"val\":\n",
    "        list_duration.append(annos['duration'])\n",
    "        for seg in annos['annotations']:\n",
    "            time = seg['segment'][1]-seg['segment'][0]\n",
    "            list_seg.append(time)\n",
    "        count = count + 1\n",
    "\n",
    "x = np.sort(list_seg)\n",
    "y = np.sort(list_duration)\n",
    "print(x)\n",
    "print(y)\n",
    "print(sum(y)/count)"
   ]
  },
  {
   "cell_type": "code",
   "execution_count": 36,
   "metadata": {},
   "outputs": [
    {
     "name": "stdout",
     "output_type": "stream",
     "text": [
      "13\n",
      "[[0, 4], [1, 5], [2, 6], [3, 7], [5, 9], [6, 10], [7, 11], [8, 12], [10, 14], [11, 15], [12, 16], [13, 17], [15, 19]]\n"
     ]
    }
   ],
   "source": [
    "import torch\n",
    "import math\n",
    "\n",
    "feature_length = 20\n",
    "window_size = 5\n",
    "slice_overlap = 0.75\n",
    "slide = window_size*(1-slice_overlap)\n",
    "num_complete_slices = math.floor((feature_length-window_size)/slide) + 1\n",
    "print(num_complete_slices)\n",
    "slices = [[int(i*slide), int((i*slide)+window_size-1)] for i in range(num_complete_slices)]\n",
    "\n",
    "print(slices)"
   ]
  },
  {
   "cell_type": "code",
   "execution_count": 16,
   "metadata": {},
   "outputs": [
    {
     "name": "stdout",
     "output_type": "stream",
     "text": [
      "torch.Size([3, 4])\n"
     ]
    }
   ],
   "source": [
    "import numpy as np\n",
    "import torch\n",
    "\n",
    "a = torch.randn((3,4))\n",
    "b = torch.randn((3,1))\n",
    "c = torch.mul(a,b)\n",
    "print(c.shape)"
   ]
  }
 ],
 "metadata": {
  "kernelspec": {
   "display_name": "Torch",
   "language": "python",
   "name": "python3"
  },
  "language_info": {
   "codemirror_mode": {
    "name": "ipython",
    "version": 3
   },
   "file_extension": ".py",
   "mimetype": "text/x-python",
   "name": "python",
   "nbconvert_exporter": "python",
   "pygments_lexer": "ipython3",
   "version": "3.7.12"
  },
  "orig_nbformat": 4
 },
 "nbformat": 4,
 "nbformat_minor": 2
}
