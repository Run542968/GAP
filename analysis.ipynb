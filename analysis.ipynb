{
 "cells": [
  {
   "cell_type": "code",
   "execution_count": 11,
   "metadata": {},
   "outputs": [
    {
     "name": "stdout",
     "output_type": "stream",
     "text": [
      "[  0.           0.           0.         ... 266.971      277.76528327\n",
      " 300.31687075]\n",
      "[  1.10205717   2.06666667   2.33566667 ... 360.36       619.26666667\n",
      " 745.44      ]\n",
      "117.70481736230505\n"
     ]
    }
   ],
   "source": [
    "import json\n",
    "import numpy as np\n",
    "\n",
    "# anno = json.load(open('data/Thumos14/Thumos14_annotations.json'))\n",
    "anno = json.load(open('data/ActivityNet13/ActivityNet13_annotations.json'))\n",
    "video_anno = anno['database']\n",
    "list_duration = []\n",
    "list_seg = []\n",
    "count = 0\n",
    "for vn, annos in video_anno.items():\n",
    "    if annos['subset'] == \"val\":\n",
    "        list_duration.append(annos['duration'])\n",
    "        for seg in annos['annotations']:\n",
    "            time = seg['segment'][1]-seg['segment'][0]\n",
    "            list_seg.append(time)\n",
    "        count = count + 1\n",
    "\n",
    "x = np.sort(list_seg)\n",
    "y = np.sort(list_duration)\n",
    "print(x)\n",
    "print(y)\n",
    "print(sum(y)/count)"
   ]
  },
  {
   "cell_type": "code",
   "execution_count": 36,
   "metadata": {},
   "outputs": [
    {
     "name": "stdout",
     "output_type": "stream",
     "text": [
      "13\n",
      "[[0, 4], [1, 5], [2, 6], [3, 7], [5, 9], [6, 10], [7, 11], [8, 12], [10, 14], [11, 15], [12, 16], [13, 17], [15, 19]]\n"
     ]
    }
   ],
   "source": [
    "import torch\n",
    "import math\n",
    "\n",
    "feature_length = 20\n",
    "window_size = 5\n",
    "slice_overlap = 0.75\n",
    "slide = window_size*(1-slice_overlap)\n",
    "num_complete_slices = math.floor((feature_length-window_size)/slide) + 1\n",
    "print(num_complete_slices)\n",
    "slices = [[int(i*slide), int((i*slide)+window_size-1)] for i in range(num_complete_slices)]\n",
    "\n",
    "print(slices)"
   ]
  },
  {
   "cell_type": "markdown",
   "metadata": {},
   "source": [
    "## Load the result on ActivityNet1.3"
   ]
  },
  {
   "cell_type": "code",
   "execution_count": null,
   "metadata": {},
   "outputs": [],
   "source": [
    "import json\n",
    "\n",
    "res = json.load(open(\"D:/Jia-Run/Zero_Shot_TAL/论文写作/画图/ablation/activitynet1.3/v8_49_detection_val_93_raw.json\")) # base\n",
    "# res = json.load(open(\"D:/Jia-Run/Zero_Shot_TAL/论文写作/画图/ablation/activitynet1.3/v8_3_detection_val_66_raw.json\")) # + actionness\n",
    "# res = json.load(open(\"D:/Jia-Run/Zero_Shot_TAL/论文写作/画图/ablation/activitynet1.3/v8_11_detection_val_23_raw.json\"))  # + refine\n",
    "# res = json.load(open(\"D:/Jia-Run/Zero_Shot_TAL/论文写作/画图/ablation/activitynet1.3/v8_38_detection_val_47_raw.json\"))   # + actionness + refine\n",
    "video_id = \"-r_bvqjYjYg\"\n",
    "print(len(res['results'][video_id]))\n",
    "sorted_res = sorted(res['results'][video_id],key=lambda proposal: proposal['score'],reverse=True)\n",
    "sorted_res"
   ]
  },
  {
   "cell_type": "markdown",
   "metadata": {},
   "source": [
    "## Load the result on Thumos14\n",
    "- 注意在Thumos14的detection_val文件是来自binary的预测"
   ]
  },
  {
   "cell_type": "code",
   "execution_count": 4,
   "metadata": {},
   "outputs": [
    {
     "name": "stdout",
     "output_type": "stream",
     "text": [
      "63\n"
     ]
    },
    {
     "data": {
      "text/plain": [
       "[{'segment': [33.75581798553467, 36.559617614746095],\n",
       "  'label': 'foreground',\n",
       "  'score': 0.9322927594184875},\n",
       " {'segment': [41.011495208740236, 43.496554946899415],\n",
       "  'label': 'foreground',\n",
       "  'score': 0.6405093669891357},\n",
       " {'segment': [0.0, 2.035987138748169],\n",
       "  'label': 'foreground',\n",
       "  'score': 0.5843626856803894},\n",
       " {'segment': [24.414079666137695, 26.966567993164062],\n",
       "  'label': 'foreground',\n",
       "  'score': 0.5690291523933411},\n",
       " {'segment': [19.165910720825195, 26.19584846496582],\n",
       "  'label': 'foreground',\n",
       "  'score': 0.5622686147689819},\n",
       " {'segment': [51.2, 51.877654147148135],\n",
       "  'label': 'foreground',\n",
       "  'score': 0.3823162019252777},\n",
       " {'segment': [15.770899772644043, 24.16823387145996],\n",
       "  'label': 'foreground',\n",
       "  'score': 0.35898956656455994},\n",
       " {'segment': [0.26186221837997437, 2.563830614089966],\n",
       "  'label': 'foreground',\n",
       "  'score': 0.19559548795223236},\n",
       " {'segment': [59.64246864318848, 61.15080089569092],\n",
       "  'label': 'foreground',\n",
       "  'score': 0.11501629650592804},\n",
       " {'segment': [59.28986568450928, 60.898385238647464],\n",
       "  'label': 'foreground',\n",
       "  'score': 0.11208267509937286},\n",
       " {'segment': [0.0, 1.6522630453109741],\n",
       "  'label': 'foreground',\n",
       "  'score': 0.10521486401557922},\n",
       " {'segment': [48.99944076538086, 50.05213317871094],\n",
       "  'label': 'foreground',\n",
       "  'score': 0.09284818172454834},\n",
       " {'segment': [60.281258773803714, 61.7800313949585],\n",
       "  'label': 'foreground',\n",
       "  'score': 0.07576129585504532},\n",
       " {'segment': [61.47751445770264, 63.039108467102054],\n",
       "  'label': 'foreground',\n",
       "  'score': 0.06098918616771698},\n",
       " {'segment': [61.905754280090335, 63.47288055419922],\n",
       "  'label': 'foreground',\n",
       "  'score': 0.058438412845134735},\n",
       " {'segment': [52.425378751754764, 53.96955080032349],\n",
       "  'label': 'foreground',\n",
       "  'score': 0.05064449459314346},\n",
       " {'segment': [62.357584190368655, 63.930484008789065],\n",
       "  'label': 'foreground',\n",
       "  'score': 0.04908454418182373},\n",
       " {'segment': [47.95227584838867, 49.01929817199707],\n",
       "  'label': 'foreground',\n",
       "  'score': 0.04859340563416481},\n",
       " {'segment': [62.72565097808838, 64.26666660308838],\n",
       "  'label': 'foreground',\n",
       "  'score': 0.044114887714385986},\n",
       " {'segment': [62.97225017547608, 64.26666660308838],\n",
       "  'label': 'foreground',\n",
       "  'score': 0.04232935607433319},\n",
       " {'segment': [58.4703127861023, 60.12701148986817],\n",
       "  'label': 'foreground',\n",
       "  'score': 0.04194001853466034},\n",
       " {'segment': [63.06999034881592, 64.26666660308838],\n",
       "  'label': 'foreground',\n",
       "  'score': 0.04087553918361664},\n",
       " {'segment': [53.133372735977176, 54.71260304450989],\n",
       "  'label': 'foreground',\n",
       "  'score': 0.04030103236436844},\n",
       " {'segment': [63.171371650695804, 64.26666660308838],\n",
       "  'label': 'foreground',\n",
       "  'score': 0.03945266455411911},\n",
       " {'segment': [63.17306823730469, 64.26666660308838],\n",
       "  'label': 'foreground',\n",
       "  'score': 0.03944450616836548},\n",
       " {'segment': [54.045278024673465, 55.627617073059085],\n",
       "  'label': 'foreground',\n",
       "  'score': 0.038916103541851044},\n",
       " {'segment': [63.23047275543213, 64.26666660308838],\n",
       "  'label': 'foreground',\n",
       "  'score': 0.03871709480881691},\n",
       " {'segment': [63.28697319030762, 64.26666660308838],\n",
       "  'label': 'foreground',\n",
       "  'score': 0.03833918273448944},\n",
       " {'segment': [63.2880298614502, 64.26666660308838],\n",
       "  'label': 'foreground',\n",
       "  'score': 0.03833255544304848},\n",
       " {'segment': [63.289516639709475, 64.26666660308838],\n",
       "  'label': 'foreground',\n",
       "  'score': 0.038322146981954575},\n",
       " {'segment': [63.3119441986084, 64.26666660308838],\n",
       "  'label': 'foreground',\n",
       "  'score': 0.03815672546625137},\n",
       " {'segment': [63.31997222900391, 64.26666660308838],\n",
       "  'label': 'foreground',\n",
       "  'score': 0.03812674060463905},\n",
       " {'segment': [63.320862007141116, 64.26666660308838],\n",
       "  'label': 'foreground',\n",
       "  'score': 0.03812113776803017},\n",
       " {'segment': [63.318688583374026, 64.26666660308838],\n",
       "  'label': 'foreground',\n",
       "  'score': 0.03811910003423691},\n",
       " {'segment': [63.32995529174805, 64.26666660308838],\n",
       "  'label': 'foreground',\n",
       "  'score': 0.038060419261455536},\n",
       " {'segment': [63.34557552337647, 64.26666660308838],\n",
       "  'label': 'foreground',\n",
       "  'score': 0.038008879870176315},\n",
       " {'segment': [63.35184116363526, 64.26666660308838],\n",
       "  'label': 'foreground',\n",
       "  'score': 0.03799113258719444},\n",
       " {'segment': [63.341070365905765, 64.26666660308838],\n",
       "  'label': 'foreground',\n",
       "  'score': 0.037983790040016174},\n",
       " {'segment': [63.35071296691895, 64.26666660308838],\n",
       "  'label': 'foreground',\n",
       "  'score': 0.03796261548995972},\n",
       " {'segment': [63.34515209197998, 64.26666660308838],\n",
       "  'label': 'foreground',\n",
       "  'score': 0.037960536777973175},\n",
       " {'segment': [63.38213748931885, 64.26666660308838],\n",
       "  'label': 'foreground',\n",
       "  'score': 0.03786018118262291},\n",
       " {'segment': [63.39637775421143, 64.26666660308838],\n",
       "  'label': 'foreground',\n",
       "  'score': 0.03781667351722717},\n",
       " {'segment': [63.37753601074219, 64.26666660308838],\n",
       "  'label': 'foreground',\n",
       "  'score': 0.037813037633895874},\n",
       " {'segment': [63.42903728485108, 64.26666660308838],\n",
       "  'label': 'foreground',\n",
       "  'score': 0.03771505877375603},\n",
       " {'segment': [51.539381694793704, 52.782598447799685],\n",
       "  'label': 'foreground',\n",
       "  'score': 0.03537067770957947},\n",
       " {'segment': [55.09921355247498, 56.64214677810669],\n",
       "  'label': 'foreground',\n",
       "  'score': 0.03224574774503708},\n",
       " {'segment': [56.86913890838623, 58.42831392288208],\n",
       "  'label': 'foreground',\n",
       "  'score': 0.02712561935186386},\n",
       " {'segment': [25.527538299560547, 28.11090850830078],\n",
       "  'label': 'foreground',\n",
       "  'score': 0.026277288794517517},\n",
       " {'segment': [49.30695686340332, 50.83687553405762],\n",
       "  'label': 'foreground',\n",
       "  'score': 0.021512821316719055},\n",
       " {'segment': [32.575828552246094, 33.86666488647461],\n",
       "  'label': 'foreground',\n",
       "  'score': 0.020381441339850426},\n",
       " {'segment': [0.617484986782074, 3.073665142059326],\n",
       "  'label': 'foreground',\n",
       "  'score': 0.018941128626465797},\n",
       " {'segment': [14.166581153869629, 18.83952522277832],\n",
       "  'label': 'foreground',\n",
       "  'score': 0.014755070209503174},\n",
       " {'segment': [4.1069512367248535, 6.783380031585693],\n",
       "  'label': 'foreground',\n",
       "  'score': 0.012408115901052952},\n",
       " {'segment': [15.105738639831543, 21.48621940612793],\n",
       "  'label': 'foreground',\n",
       "  'score': 0.012286416254937649},\n",
       " {'segment': [1.6813534498214722, 4.1587910652160645],\n",
       "  'label': 'foreground',\n",
       "  'score': 0.011794248595833778},\n",
       " {'segment': [28.858844757080078, 30.883411407470703],\n",
       "  'label': 'foreground',\n",
       "  'score': 0.01148801390081644},\n",
       " {'segment': [26.814523696899414, 29.234304428100586],\n",
       "  'label': 'foreground',\n",
       "  'score': 0.010457424446940422},\n",
       " {'segment': [6.716719627380371, 9.761210441589355],\n",
       "  'label': 'foreground',\n",
       "  'score': 0.00996938906610012},\n",
       " {'segment': [41.059261894226076, 43.60746726989746],\n",
       "  'label': 'foreground',\n",
       "  'score': 0.009577293880283833},\n",
       " {'segment': [10.971558570861816, 14.56421947479248],\n",
       "  'label': 'foreground',\n",
       "  'score': 0.008624320849776268},\n",
       " {'segment': [30.74503517150879, 32.80073547363281],\n",
       "  'label': 'foreground',\n",
       "  'score': 0.007861647754907608},\n",
       " {'segment': [57.57475242614746, 59.17356643676758],\n",
       "  'label': 'foreground',\n",
       "  'score': 0.005740524735301733},\n",
       " {'segment': [39.872199630737306, 42.57881317138672],\n",
       "  'label': 'foreground',\n",
       "  'score': 0.005037449300289154}]"
      ]
     },
     "execution_count": 4,
     "metadata": {},
     "output_type": "execute_result"
    }
   ],
   "source": [
    "import json\n",
    "\n",
    "# res = json.load(open(\"D:/Jia-Run/Zero_Shot_TAL/论文写作/画图/ablation/thumos14/v8_1_2_detection_test_20_raw.json\")) # base\n",
    "# res = json.load(open(\"D:/Jia-Run/Zero_Shot_TAL/论文写作/画图/ablation/thumos14/v8_3_2_detection_test_27_raw.json\")) # + actionness\n",
    "# res = json.load(open(\"D:/Jia-Run/Zero_Shot_TAL/论文写作/画图/ablation/thumos14/v8_2_detection_test_28_raw.json\"))  # + refine\n",
    "res = json.load(open(\"D:/Jia-Run/Zero_Shot_TAL/论文写作/画图/ablation/thumos14/v8_4_detection_test_47_raw.json\"))   # + actionness + refine\n",
    "video_id = \"video_test_0000701\"\n",
    "print(len(res['results'][video_id]))\n",
    "sorted_res = sorted(res['results'][video_id],key=lambda proposal: proposal['score'],reverse=True)\n",
    "sorted_res"
   ]
  },
  {
   "cell_type": "markdown",
   "metadata": {},
   "source": [
    "### Load the change of applying refinement, just in inference. Thumos14"
   ]
  },
  {
   "cell_type": "code",
   "execution_count": null,
   "metadata": {},
   "outputs": [],
   "source": [
    "import json\n",
    "\n",
    "# res = json.load(open(\"D:/Jia-Run/Zero_Shot_TAL/论文写作/画图/refine/thumos_binary_v8_2_detection_test_47_before_refine_raw.json\")) # before refine\n",
    "res = json.load(open(\"D:/Jia-Run/Zero_Shot_TAL/论文写作/画图/refine/thumos_binary_v8_2_detection_test_47_after_refine_raw.json\")) # after refine\n",
    "\n",
    "video_id = \"video_test_0000073\"\n",
    "print(len(res['results'][video_id]))\n",
    "sorted_res = sorted(res['results'][video_id],key=lambda proposal: proposal['score'],reverse=True)\n",
    "sorted_res"
   ]
  },
  {
   "cell_type": "markdown",
   "metadata": {},
   "source": [
    "### Load the change of applying refinement, just in inference. ActivityNet1.3"
   ]
  },
  {
   "cell_type": "code",
   "execution_count": null,
   "metadata": {},
   "outputs": [],
   "source": [
    "import json\n",
    "\n",
    "res = json.load(open(\"D:/Jia-Run/Zero_Shot_TAL/论文写作/画图/refine/ant13_binary_v8_2_detection_test_47_before_refine_raw.json\")) # before refine\n",
    "# res = json.load(open(\"D:/Jia-Run/Zero_Shot_TAL/论文写作/画图/refine/ant13_binary_v8_2_detection_test_47_after_refine_raw.json\")) # after refine\n",
    "\n",
    "video_id = \"-r_bvqjYjYg\"\n",
    "print(len(res['results'][video_id]))\n",
    "sorted_res = sorted(res['results'][video_id],key=lambda proposal: proposal['score'],reverse=True)\n",
    "sorted_res"
   ]
  },
  {
   "cell_type": "code",
   "execution_count": 34,
   "metadata": {},
   "outputs": [
    {
     "name": "stdout",
     "output_type": "stream",
     "text": [
      "[[0.71611393 0.96510105 0.71217216 0.18761535]\n",
      " [0.13681803 0.81023881 0.8162105  0.48607804]\n",
      " [0.24997616 0.52386834 0.37161187 0.65872146]\n",
      " [0.71864529 0.42397581 0.22944962 0.90087491]\n",
      " [0.47526494 0.06547175 0.0770536  0.09212093]]\n",
      "[[0.13681803 0.81023881 0.8162105  0.48607804]\n",
      " [0.71611393 0.96510105 0.71217216 0.18761535]\n",
      " [0.24997616 0.52386834 0.37161187 0.65872146]\n",
      " [0.71864529 0.42397581 0.22944962 0.90087491]\n",
      " [0.47526494 0.06547175 0.0770536  0.09212093]]\n"
     ]
    },
    {
     "data": {
      "text/plain": [
       "array([], dtype=int64)"
      ]
     },
     "execution_count": 34,
     "metadata": {},
     "output_type": "execute_result"
    }
   ],
   "source": [
    "import numpy as np\n",
    "input_dets = np.random.random((5,4))\n",
    "print(input_dets)\n",
    "sort_idx = input_dets[:, 2].argsort()[::-1]\n",
    "dets = input_dets[sort_idx, :]\n",
    "print(dets)\n",
    "np.where(dets[:,2]<=0.01)[0]"
   ]
  },
  {
   "cell_type": "code",
   "execution_count": 10,
   "metadata": {},
   "outputs": [
    {
     "name": "stdout",
     "output_type": "stream",
     "text": [
      "5641\n",
      "['v_GkDRj1GlHig.mp4', 'v_Qe-tz6I222M.mp4', 'v_4n8zXCsLycU.mp4', 'v_oDyKqL-bnVw.mp4']\n"
     ]
    }
   ],
   "source": [
    "# check_repeat video file\n",
    "\n",
    "video_name = list()\n",
    "# /mnt/Datasets/COIN/videos/0/-8NaVGEccgc.mp4\n",
    "with open(\"C:/Users/14988/Desktop/HACS_video_dir_list.txt\") as f:\n",
    "    for line in f.readlines():\n",
    "        vn = line.strip().split('/')[-1]\n",
    "        video_name.append(vn)\n",
    "print(len(video_name))\n",
    "\n",
    "visited = set()\n",
    "redundant_items = [x for x in video_name if x in visited or (visited.add(x) or False)]\n",
    "print(redundant_items)\n",
    "\n",
    "# print(video_name)\n"
   ]
  },
  {
   "cell_type": "code",
   "execution_count": 3,
   "metadata": {},
   "outputs": [
    {
     "name": "stdout",
     "output_type": "stream",
     "text": [
      "tensor([[0.3682, 0.8972, 0.3394, 0.3260],\n",
      "        [0.1439, 0.8706, 0.7251, 0.2740],\n",
      "        [0.7318, 0.2247, 0.8523, 0.5513],\n",
      "        [0.4105, 0.7412, 0.4069, 0.6733],\n",
      "        [0.4753, 0.3614, 0.4514, 0.3871],\n",
      "        [0.3681, 0.5327, 0.9832, 0.0176]])\n",
      "tensor([[0.3682, 0.8972, 0.3394, 0.3260],\n",
      "        [0.1439, 0.8706, 0.7251, 0.2740],\n",
      "        [0.7318, 0.2247, 0.8523, 0.5513]])\n"
     ]
    }
   ],
   "source": [
    "import torch\n",
    "import torch.nn as nn\n",
    "\n",
    "def inverse_sigmoid(x, eps=1e-5):\n",
    "    x = x.clamp(min=0, max=1)\n",
    "    x1 = x.clamp(min=eps)\n",
    "    x2 = (1 - x).clamp(min=eps)\n",
    "    return torch.log(x1/x2)\n",
    "\n",
    "\n",
    "num_queries = 3\n",
    "feat = torch.empty((6,4)).uniform_(0,1)\n",
    "print(feat)\n",
    "idx = torch.tensor([0,1,2])\n",
    "a = feat[idx,:]\n",
    "print(a)"
   ]
  },
  {
   "cell_type": "code",
   "execution_count": 98,
   "metadata": {},
   "outputs": [
    {
     "data": {
      "image/png": "[encoded data removed]",
      "text/plain": [
       "<Figure size 640x480 with 1 Axes>"
      ]
     },
     "metadata": {},
     "output_type": "display_data"
    }
   ],
   "source": [
    "import matplotlib.pyplot as plt\n",
    "import numpy as np\n",
    "\n",
    "# 假设的数据\n",
    "epochs = np.arange(1, 101)\n",
    "moment_detr = np.array([i**2 * 0.0005 for i in epochs])  # 假设的Moment-DETR性能数据\n",
    "umt = np.array([i**2 * 0.0004 for i in epochs])          # 假设的UMT性能数据\n",
    "denoiseloc = np.array([i**2 * 0.0003 for i in epochs])   # 假设的DenoiseLoc性能数据\n",
    "\n",
    "# 创建图形和轴对象\n",
    "fig, ax = plt.subplots()\n",
    "\n",
    "# 绘制曲线\n",
    "ax.plot(epochs, moment_detr, color='red', label='Moment-DETR', linestyle=':')\n",
    "ax.plot(epochs, umt, color='blue', label='UMT', linestyle='--')\n",
    "ax.plot(epochs, denoiseloc, color='orange', label='DenoiseLoc', linestyle='-.')\n",
    "\n",
    "# 添加填充颜色，假设我们填充UMT和DenoiseLoc之间的区域\n",
    "ax.fill_between(epochs, umt, denoiseloc, color='pink', alpha=0.3)\n",
    "\n",
    "# 添加图例\n",
    "ax.legend()\n",
    "\n",
    "# 设置图表标题和轴标签\n",
    "ax.set_title('Average mAP (%) vs Epoch')\n",
    "ax.set_xlabel('Epoch')\n",
    "ax.set_ylabel('Average mAP (%)')\n",
    "\n",
    "# 显示图表\n",
    "plt.show()\n"
   ]
  }
 ],
 "metadata": {
  "kernelspec": {
   "display_name": "Torch",
   "language": "python",
   "name": "python3"
  },
  "language_info": {
   "codemirror_mode": {
    "name": "ipython",
    "version": 3
   },
   "file_extension": ".py",
   "mimetype": "text/x-python",
   "name": "python",
   "nbconvert_exporter": "python",
   "pygments_lexer": "ipython3",
   "version": "3.7.12"
  },
  "orig_nbformat": 4
 },
 "nbformat": 4,
 "nbformat_minor": 2
}
