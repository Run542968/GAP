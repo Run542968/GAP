{
 "cells": [
  {
   "cell_type": "code",
   "execution_count": 11,
   "metadata": {},
   "outputs": [
    {
     "name": "stdout",
     "output_type": "stream",
     "text": [
      "[  0.           0.           0.         ... 266.971      277.76528327\n",
      " 300.31687075]\n",
      "[  1.10205717   2.06666667   2.33566667 ... 360.36       619.26666667\n",
      " 745.44      ]\n",
      "117.70481736230505\n"
     ]
    }
   ],
   "source": [
    "import json\n",
    "import numpy as np\n",
    "\n",
    "# anno = json.load(open('data/Thumos14/Thumos14_annotations.json'))\n",
    "anno = json.load(open('data/ActivityNet13/ActivityNet13_annotations.json'))\n",
    "video_anno = anno['database']\n",
    "list_duration = []\n",
    "list_seg = []\n",
    "count = 0\n",
    "for vn, annos in video_anno.items():\n",
    "    if annos['subset'] == \"val\":\n",
    "        list_duration.append(annos['duration'])\n",
    "        for seg in annos['annotations']:\n",
    "            time = seg['segment'][1]-seg['segment'][0]\n",
    "            list_seg.append(time)\n",
    "        count = count + 1\n",
    "\n",
    "x = np.sort(list_seg)\n",
    "y = np.sort(list_duration)\n",
    "print(x)\n",
    "print(y)\n",
    "print(sum(y)/count)"
   ]
  },
  {
   "cell_type": "code",
   "execution_count": 36,
   "metadata": {},
   "outputs": [
    {
     "name": "stdout",
     "output_type": "stream",
     "text": [
      "13\n",
      "[[0, 4], [1, 5], [2, 6], [3, 7], [5, 9], [6, 10], [7, 11], [8, 12], [10, 14], [11, 15], [12, 16], [13, 17], [15, 19]]\n"
     ]
    }
   ],
   "source": [
    "import torch\n",
    "import math\n",
    "\n",
    "feature_length = 20\n",
    "window_size = 5\n",
    "slice_overlap = 0.75\n",
    "slide = window_size*(1-slice_overlap)\n",
    "num_complete_slices = math.floor((feature_length-window_size)/slide) + 1\n",
    "print(num_complete_slices)\n",
    "slices = [[int(i*slide), int((i*slide)+window_size-1)] for i in range(num_complete_slices)]\n",
    "\n",
    "print(slices)"
   ]
  },
  {
   "cell_type": "markdown",
   "metadata": {},
   "source": [
    "## Load the result on ActivityNet1.3"
   ]
  },
  {
   "cell_type": "code",
   "execution_count": null,
   "metadata": {},
   "outputs": [],
   "source": [
    "import json\n",
    "\n",
    "# res = json.load(open(\"D:/Jia-Run/Zero_Shot_TAL/论文写作/画图/ablation/activitynet1.3/v8_49_detection_val_93_raw.json\")) # base\n",
    "# res = json.load(open(\"D:/Jia-Run/Zero_Shot_TAL/论文写作/画图/ablation/activitynet1.3/v8_3_detection_val_66_raw.json\")) # + actionness\n",
    "# res = json.load(open(\"D:/Jia-Run/Zero_Shot_TAL/论文写作/画图/ablation/activitynet1.3/v8_11_detection_val_23_raw.json\"))  # + refine\n",
    "res = json.load(open(\"D:/Jia-Run/Zero_Shot_TAL/论文写作/画图/ablation/activitynet1.3/v8_38_detection_val_47_raw.json\"))   # + actionness + refine\n",
    "video_id = \"-r_bvqjYjYg\"\n",
    "print(len(res['results'][video_id]))\n",
    "sorted_res = sorted(res['results'][video_id],key=lambda proposal: proposal['score'],reverse=True)\n",
    "sorted_res"
   ]
  },
  {
   "cell_type": "markdown",
   "metadata": {},
   "source": [
    "## Load the result on Thumos14\n",
    "- 注意在Thumos14的detection_val文件是来自binary的预测"
   ]
  },
  {
   "cell_type": "code",
   "execution_count": 94,
   "metadata": {},
   "outputs": [
    {
     "name": "stdout",
     "output_type": "stream",
     "text": [
      "70\n"
     ]
    },
    {
     "data": {
      "text/plain": [
       "[{'segment': [49.64062843322754, 53.64390335083008],\n",
       "  'label': 'foreground',\n",
       "  'score': 0.6140000820159912},\n",
       " {'segment': [5.714236259460449, 10.004910469055176],\n",
       "  'label': 'foreground',\n",
       "  'score': 0.5571966767311096},\n",
       " {'segment': [38.28494129180908, 43.53189239501953],\n",
       "  'label': 'foreground',\n",
       "  'score': 0.39096713066101074},\n",
       " {'segment': [94.15474967956543, 97.93608169555664],\n",
       "  'label': 'foreground',\n",
       "  'score': 0.3716582953929901},\n",
       " {'segment': [18.688444137573242, 22.87190055847168],\n",
       "  'label': 'foreground',\n",
       "  'score': 0.3694264888763428},\n",
       " {'segment': [94.27256088256836, 98.06117897033691],\n",
       "  'label': 'foreground',\n",
       "  'score': 0.35019028186798096},\n",
       " {'segment': [94.06323890686035, 97.73961334228515],\n",
       "  'label': 'foreground',\n",
       "  'score': 0.33394965529441833},\n",
       " {'segment': [88.9366720199585, 93.23164443969726],\n",
       "  'label': 'foreground',\n",
       "  'score': 0.3249224126338959},\n",
       " {'segment': [94.78466873168945, 98.30124359130859],\n",
       "  'label': 'foreground',\n",
       "  'score': 0.20245936512947083},\n",
       " {'segment': [63.54600448608399, 69.76029510498047],\n",
       "  'label': 'foreground',\n",
       "  'score': 0.19558286666870117},\n",
       " {'segment': [93.49372367858886, 97.0514533996582],\n",
       "  'label': 'foreground',\n",
       "  'score': 0.15454445779323578},\n",
       " {'segment': [85.69072227478027, 89.82569198608398],\n",
       "  'label': 'foreground',\n",
       "  'score': 0.14860911667346954},\n",
       " {'segment': [54.66344795227051, 58.572801208496095],\n",
       "  'label': 'foreground',\n",
       "  'score': 0.1424330621957779},\n",
       " {'segment': [18.130630493164062, 23.44717025756836],\n",
       "  'label': 'foreground',\n",
       "  'score': 0.12823748588562012},\n",
       " {'segment': [93.41659812927246, 96.9254768371582],\n",
       "  'label': 'foreground',\n",
       "  'score': 0.11753161996603012},\n",
       " {'segment': [47.011813735961915, 51.566541290283205],\n",
       "  'label': 'foreground',\n",
       "  'score': 0.11748891323804855},\n",
       " {'segment': [86.36580066680908, 89.50830059051513],\n",
       "  'label': 'foreground',\n",
       "  'score': 0.11387041956186295},\n",
       " {'segment': [89.26024894714355, 92.84453086853027],\n",
       "  'label': 'foreground',\n",
       "  'score': 0.09749794751405716},\n",
       " {'segment': [38.286774253845216, 43.04193267822266],\n",
       "  'label': 'foreground',\n",
       "  'score': 0.09490416198968887},\n",
       " {'segment': [5.452512741088867, 9.775815963745117],\n",
       "  'label': 'foreground',\n",
       "  'score': 0.09154117107391357},\n",
       " {'segment': [19.86316680908203, 23.772014617919922],\n",
       "  'label': 'foreground',\n",
       "  'score': 0.057518936693668365},\n",
       " {'segment': [95.23129730224609, 98.40000038146972],\n",
       "  'label': 'foreground',\n",
       "  'score': 0.057498835027217865},\n",
       " {'segment': [95.65865020751953, 98.40000038146972],\n",
       "  'label': 'foreground',\n",
       "  'score': 0.054126814007759094},\n",
       " {'segment': [96.02770881652832, 98.40000038146972],\n",
       "  'label': 'foreground',\n",
       "  'score': 0.052653588354587555},\n",
       " {'segment': [96.33097915649414, 98.40000038146972],\n",
       "  'label': 'foreground',\n",
       "  'score': 0.05127214267849922},\n",
       " {'segment': [22.345367431640625, 25.63675880432129],\n",
       "  'label': 'foreground',\n",
       "  'score': 0.050404343754053116},\n",
       " {'segment': [62.67373771667481, 68.00202674865723],\n",
       "  'label': 'foreground',\n",
       "  'score': 0.046960726380348206},\n",
       " {'segment': [36.78358612060547, 42.75422821044922],\n",
       "  'label': 'foreground',\n",
       "  'score': 0.029903607442975044},\n",
       " {'segment': [9.44460391998291, 13.030280113220215],\n",
       "  'label': 'foreground',\n",
       "  'score': 0.02822834812104702},\n",
       " {'segment': [25.6, 26.964092826843263],\n",
       "  'label': 'foreground',\n",
       "  'score': 0.024986889213323593},\n",
       " {'segment': [6.0932416915893555, 10.278179168701172],\n",
       "  'label': 'foreground',\n",
       "  'score': 0.02316804975271225},\n",
       " {'segment': [52.28047142028809, 56.037082290649415],\n",
       "  'label': 'foreground',\n",
       "  'score': 0.022993091493844986},\n",
       " {'segment': [90.25817852020263, 94.53853302001953],\n",
       "  'label': 'foreground',\n",
       "  'score': 0.020964240655303},\n",
       " {'segment': [63.37059898376465, 69.0104362487793],\n",
       "  'label': 'foreground',\n",
       "  'score': 0.01918836124241352},\n",
       " {'segment': [96.70437126159668, 98.40000038146972],\n",
       "  'label': 'foreground',\n",
       "  'score': 0.018802659586071968},\n",
       " {'segment': [95.91130142211914, 98.40000038146972],\n",
       "  'label': 'foreground',\n",
       "  'score': 0.016739467158913612},\n",
       " {'segment': [96.52109413146972, 98.40000038146972],\n",
       "  'label': 'foreground',\n",
       "  'score': 0.01669071428477764},\n",
       " {'segment': [96.60512428283691, 98.40000038146972],\n",
       "  'label': 'foreground',\n",
       "  'score': 0.01586027815937996},\n",
       " {'segment': [96.26377372741699, 98.40000038146972],\n",
       "  'label': 'foreground',\n",
       "  'score': 0.015797775238752365},\n",
       " {'segment': [96.33261756896972, 98.40000038146972],\n",
       "  'label': 'foreground',\n",
       "  'score': 0.015564902685582638},\n",
       " {'segment': [5.261197566986084, 9.33112621307373],\n",
       "  'label': 'foreground',\n",
       "  'score': 0.011711416766047478},\n",
       " {'segment': [34.18962345123291, 40.85937938690186],\n",
       "  'label': 'foreground',\n",
       "  'score': 0.010192930698394775},\n",
       " {'segment': [82.28599290847778, 86.88282470703125],\n",
       "  'label': 'foreground',\n",
       "  'score': 0.00999643187969923},\n",
       " {'segment': [57.56843729019165, 62.576289367675784],\n",
       "  'label': 'foreground',\n",
       "  'score': 0.009783058427274227},\n",
       " {'segment': [4.612310886383057, 8.370935440063477],\n",
       "  'label': 'foreground',\n",
       "  'score': 0.007953175343573093},\n",
       " {'segment': [68.16053695678711, 76.09142036437989],\n",
       "  'label': 'foreground',\n",
       "  'score': 0.007318152114748955},\n",
       " {'segment': [4.417750358581543, 8.034573554992676],\n",
       "  'label': 'foreground',\n",
       "  'score': 0.0067450846545398235},\n",
       " {'segment': [26.19536737203598, 28.84891781806946],\n",
       "  'label': 'foreground',\n",
       "  'score': 0.00588164571672678},\n",
       " {'segment': [70.66406555175782, 78.49436492919922],\n",
       "  'label': 'foreground',\n",
       "  'score': 0.0051244948990643024},\n",
       " {'segment': [31.531055068969728, 37.59997711181641],\n",
       "  'label': 'foreground',\n",
       "  'score': 0.004983881954103708},\n",
       " {'segment': [78.30405275821686, 81.0750940322876],\n",
       "  'label': 'foreground',\n",
       "  'score': 0.004693526774644852},\n",
       " {'segment': [1.4486790895462036, 3.7102949619293213],\n",
       "  'label': 'foreground',\n",
       "  'score': 0.0044084531255066395},\n",
       " {'segment': [2.172638177871704, 4.685445785522461],\n",
       "  'label': 'foreground',\n",
       "  'score': 0.004175412002950907},\n",
       " {'segment': [0.7327619791030884, 2.8065390586853027],\n",
       "  'label': 'foreground',\n",
       "  'score': 0.0040785097517073154},\n",
       " {'segment': [0.0, 1.6670080423355103],\n",
       "  'label': 'foreground',\n",
       "  'score': 0.0035770172253251076},\n",
       " {'segment': [0.0, 1.7632282972335815],\n",
       "  'label': 'foreground',\n",
       "  'score': 0.003330063307657838},\n",
       " {'segment': [0.0, 1.252442717552185],\n",
       "  'label': 'foreground',\n",
       "  'score': 0.0032811251003295183},\n",
       " {'segment': [0.0, 1.3295804262161255],\n",
       "  'label': 'foreground',\n",
       "  'score': 0.0032785795629024506},\n",
       " {'segment': [74.76927680969239, 80.03514022827149],\n",
       "  'label': 'foreground',\n",
       "  'score': 0.003222216386348009},\n",
       " {'segment': [0.26841306686401367, 2.2224011421203613],\n",
       "  'label': 'foreground',\n",
       "  'score': 0.002912023337557912},\n",
       " {'segment': [0.0, 1.9084806442260742],\n",
       "  'label': 'foreground',\n",
       "  'score': 0.002883011708036065},\n",
       " {'segment': [0.0, 1.5139051675796509],\n",
       "  'label': 'foreground',\n",
       "  'score': 0.0027117545250803232},\n",
       " {'segment': [0.0, 1.114328145980835],\n",
       "  'label': 'foreground',\n",
       "  'score': 0.0026450883597135544},\n",
       " {'segment': [28.64991674423218, 32.084814643859865],\n",
       "  'label': 'foreground',\n",
       "  'score': 0.0026185312308371067},\n",
       " {'segment': [0.0, 1.5156075954437256],\n",
       "  'label': 'foreground',\n",
       "  'score': 0.002421638462692499},\n",
       " {'segment': [0.0, 1.664137601852417],\n",
       "  'label': 'foreground',\n",
       "  'score': 0.0022282188292592764},\n",
       " {'segment': [56.750352478027345, 59.46666488647461],\n",
       "  'label': 'foreground',\n",
       "  'score': 0.0020746327936649323},\n",
       " {'segment': [76.8, 78.68838636875152],\n",
       "  'label': 'foreground',\n",
       "  'score': 0.002006160095334053},\n",
       " {'segment': [79.98896522521973, 84.28131790161133],\n",
       "  'label': 'foreground',\n",
       "  'score': 0.0019549857825040817},\n",
       " {'segment': [30.07959747314453, 33.86666488647461],\n",
       "  'label': 'foreground',\n",
       "  'score': 0.0014396863989531994}]"
      ]
     },
     "execution_count": 94,
     "metadata": {},
     "output_type": "execute_result"
    }
   ],
   "source": [
    "import json\n",
    "\n",
    "res = json.load(open(\"D:/Jia-Run/Zero_Shot_TAL/论文写作/画图/ablation/thumos14/v8_1_2_detection_test_20_raw.json\")) # base\n",
    "# res = json.load(open(\"D:/Jia-Run/Zero_Shot_TAL/论文写作/画图/ablation/thumos14/v8_3_2_detection_test_27_raw.json\")) # + actionness\n",
    "# res = json.load(open(\"D:/Jia-Run/Zero_Shot_TAL/论文写作/画图/ablation/thumos14/v8_2_detection_test_28_raw.json\"))  # + refine\n",
    "# res = json.load(open(\"D:/Jia-Run/Zero_Shot_TAL/论文写作/画图/ablation/thumos14/v8_4_detection_test_47_raw.json\"))   # + actionness + refine\n",
    "video_id = \"video_test_0000073\"\n",
    "print(len(res['results'][video_id]))\n",
    "sorted_res = sorted(res['results'][video_id],key=lambda proposal: proposal['score'],reverse=True)\n",
    "sorted_res"
   ]
  },
  {
   "cell_type": "code",
   "execution_count": 34,
   "metadata": {},
   "outputs": [
    {
     "name": "stdout",
     "output_type": "stream",
     "text": [
      "[[0.71611393 0.96510105 0.71217216 0.18761535]\n",
      " [0.13681803 0.81023881 0.8162105  0.48607804]\n",
      " [0.24997616 0.52386834 0.37161187 0.65872146]\n",
      " [0.71864529 0.42397581 0.22944962 0.90087491]\n",
      " [0.47526494 0.06547175 0.0770536  0.09212093]]\n",
      "[[0.13681803 0.81023881 0.8162105  0.48607804]\n",
      " [0.71611393 0.96510105 0.71217216 0.18761535]\n",
      " [0.24997616 0.52386834 0.37161187 0.65872146]\n",
      " [0.71864529 0.42397581 0.22944962 0.90087491]\n",
      " [0.47526494 0.06547175 0.0770536  0.09212093]]\n"
     ]
    },
    {
     "data": {
      "text/plain": [
       "array([], dtype=int64)"
      ]
     },
     "execution_count": 34,
     "metadata": {},
     "output_type": "execute_result"
    }
   ],
   "source": [
    "import numpy as np\n",
    "input_dets = np.random.random((5,4))\n",
    "print(input_dets)\n",
    "sort_idx = input_dets[:, 2].argsort()[::-1]\n",
    "dets = input_dets[sort_idx, :]\n",
    "print(dets)\n",
    "np.where(dets[:,2]<=0.01)[0]"
   ]
  },
  {
   "cell_type": "code",
   "execution_count": 10,
   "metadata": {},
   "outputs": [
    {
     "name": "stdout",
     "output_type": "stream",
     "text": [
      "5641\n",
      "['v_GkDRj1GlHig.mp4', 'v_Qe-tz6I222M.mp4', 'v_4n8zXCsLycU.mp4', 'v_oDyKqL-bnVw.mp4']\n"
     ]
    }
   ],
   "source": [
    "# check_repeat video file\n",
    "\n",
    "video_name = list()\n",
    "# /mnt/Datasets/COIN/videos/0/-8NaVGEccgc.mp4\n",
    "with open(\"C:/Users/14988/Desktop/HACS_video_dir_list.txt\") as f:\n",
    "    for line in f.readlines():\n",
    "        vn = line.strip().split('/')[-1]\n",
    "        video_name.append(vn)\n",
    "print(len(video_name))\n",
    "\n",
    "visited = set()\n",
    "redundant_items = [x for x in video_name if x in visited or (visited.add(x) or False)]\n",
    "print(redundant_items)\n",
    "\n",
    "# print(video_name)\n"
   ]
  },
  {
   "cell_type": "code",
   "execution_count": 3,
   "metadata": {},
   "outputs": [
    {
     "name": "stdout",
     "output_type": "stream",
     "text": [
      "tensor([[0.3682, 0.8972, 0.3394, 0.3260],\n",
      "        [0.1439, 0.8706, 0.7251, 0.2740],\n",
      "        [0.7318, 0.2247, 0.8523, 0.5513],\n",
      "        [0.4105, 0.7412, 0.4069, 0.6733],\n",
      "        [0.4753, 0.3614, 0.4514, 0.3871],\n",
      "        [0.3681, 0.5327, 0.9832, 0.0176]])\n",
      "tensor([[0.3682, 0.8972, 0.3394, 0.3260],\n",
      "        [0.1439, 0.8706, 0.7251, 0.2740],\n",
      "        [0.7318, 0.2247, 0.8523, 0.5513]])\n"
     ]
    }
   ],
   "source": [
    "import torch\n",
    "import torch.nn as nn\n",
    "\n",
    "def inverse_sigmoid(x, eps=1e-5):\n",
    "    x = x.clamp(min=0, max=1)\n",
    "    x1 = x.clamp(min=eps)\n",
    "    x2 = (1 - x).clamp(min=eps)\n",
    "    return torch.log(x1/x2)\n",
    "\n",
    "\n",
    "num_queries = 3\n",
    "feat = torch.empty((6,4)).uniform_(0,1)\n",
    "print(feat)\n",
    "idx = torch.tensor([0,1,2])\n",
    "a = feat[idx,:]\n",
    "print(a)"
   ]
  },
  {
   "cell_type": "code",
   "execution_count": 67,
   "metadata": {},
   "outputs": [
    {
     "data": {
      "text/plain": [
       "array([0.5 , 0.55, 0.6 , 0.65, 0.7 , 0.75, 0.8 , 0.85, 0.9 , 0.95])"
      ]
     },
     "execution_count": 67,
     "metadata": {},
     "output_type": "execute_result"
    }
   ],
   "source": [
    "import torch\n",
    "import numpy as np\n",
    "\n",
    "np.linspace(0.5, 0.95, 10)"
   ]
  }
 ],
 "metadata": {
  "kernelspec": {
   "display_name": "Torch",
   "language": "python",
   "name": "python3"
  },
  "language_info": {
   "codemirror_mode": {
    "name": "ipython",
    "version": 3
   },
   "file_extension": ".py",
   "mimetype": "text/x-python",
   "name": "python",
   "nbconvert_exporter": "python",
   "pygments_lexer": "ipython3",
   "version": "3.7.12"
  },
  "orig_nbformat": 4
 },
 "nbformat": 4,
 "nbformat_minor": 2
}
