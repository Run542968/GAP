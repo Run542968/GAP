{
 "cells": [
  {
   "cell_type": "code",
   "execution_count": 11,
   "metadata": {},
   "outputs": [
    {
     "name": "stdout",
     "output_type": "stream",
     "text": [
      "[  0.           0.           0.         ... 266.971      277.76528327\n",
      " 300.31687075]\n",
      "[  1.10205717   2.06666667   2.33566667 ... 360.36       619.26666667\n",
      " 745.44      ]\n",
      "117.70481736230505\n"
     ]
    }
   ],
   "source": [
    "import json\n",
    "import numpy as np\n",
    "\n",
    "# anno = json.load(open('data/Thumos14/Thumos14_annotations.json'))\n",
    "anno = json.load(open('data/ActivityNet13/ActivityNet13_annotations.json'))\n",
    "video_anno = anno['database']\n",
    "list_duration = []\n",
    "list_seg = []\n",
    "count = 0\n",
    "for vn, annos in video_anno.items():\n",
    "    if annos['subset'] == \"val\":\n",
    "        list_duration.append(annos['duration'])\n",
    "        for seg in annos['annotations']:\n",
    "            time = seg['segment'][1]-seg['segment'][0]\n",
    "            list_seg.append(time)\n",
    "        count = count + 1\n",
    "\n",
    "x = np.sort(list_seg)\n",
    "y = np.sort(list_duration)\n",
    "print(x)\n",
    "print(y)\n",
    "print(sum(y)/count)"
   ]
  },
  {
   "cell_type": "code",
   "execution_count": 36,
   "metadata": {},
   "outputs": [
    {
     "name": "stdout",
     "output_type": "stream",
     "text": [
      "13\n",
      "[[0, 4], [1, 5], [2, 6], [3, 7], [5, 9], [6, 10], [7, 11], [8, 12], [10, 14], [11, 15], [12, 16], [13, 17], [15, 19]]\n"
     ]
    }
   ],
   "source": [
    "import torch\n",
    "import math\n",
    "\n",
    "feature_length = 20\n",
    "window_size = 5\n",
    "slice_overlap = 0.75\n",
    "slide = window_size*(1-slice_overlap)\n",
    "num_complete_slices = math.floor((feature_length-window_size)/slide) + 1\n",
    "print(num_complete_slices)\n",
    "slices = [[int(i*slide), int((i*slide)+window_size-1)] for i in range(num_complete_slices)]\n",
    "\n",
    "print(slices)"
   ]
  },
  {
   "cell_type": "code",
   "execution_count": 57,
   "metadata": {},
   "outputs": [
    {
     "name": "stdout",
     "output_type": "stream",
     "text": [
      "5\n"
     ]
    },
    {
     "data": {
      "text/plain": [
       "[{'segment': [4.131891250610352, 24.000808715820312],\n",
       "  'label': 'foreground',\n",
       "  'score': 0.617004930973053},\n",
       " {'segment': [8.320490837097168, 19.924226760864258],\n",
       "  'label': 'foreground',\n",
       "  'score': 0.2743481695652008},\n",
       " {'segment': [15.117510795593262, 26.317546844482422],\n",
       "  'label': 'foreground',\n",
       "  'score': 0.2682434618473053},\n",
       " {'segment': [3.746934175491333, 9.808257102966309],\n",
       "  'label': 'foreground',\n",
       "  'score': 0.2471596896648407},\n",
       " {'segment': [0.6245707273483276, 2.9960780143737793],\n",
       "  'label': 'foreground',\n",
       "  'score': 0.20803634822368622}]"
      ]
     },
     "execution_count": 57,
     "metadata": {},
     "output_type": "execute_result"
    }
   ],
   "source": [
    "import json\n",
    "\n",
    "res = json.load(open(\"C:/Users/adminA/Desktop/detection_val_10_raw.json\"))\n",
    "video_id = \"-Jp86pFKlsw\"\n",
    "print(len(res['results'][video_id]))\n",
    "sorted_res = sorted(res['results'][video_id],key=lambda proposal: proposal['score'],reverse=True)\n",
    "sorted_res"
   ]
  },
  {
   "cell_type": "code",
   "execution_count": 34,
   "metadata": {},
   "outputs": [
    {
     "name": "stdout",
     "output_type": "stream",
     "text": [
      "[[0.71611393 0.96510105 0.71217216 0.18761535]\n",
      " [0.13681803 0.81023881 0.8162105  0.48607804]\n",
      " [0.24997616 0.52386834 0.37161187 0.65872146]\n",
      " [0.71864529 0.42397581 0.22944962 0.90087491]\n",
      " [0.47526494 0.06547175 0.0770536  0.09212093]]\n",
      "[[0.13681803 0.81023881 0.8162105  0.48607804]\n",
      " [0.71611393 0.96510105 0.71217216 0.18761535]\n",
      " [0.24997616 0.52386834 0.37161187 0.65872146]\n",
      " [0.71864529 0.42397581 0.22944962 0.90087491]\n",
      " [0.47526494 0.06547175 0.0770536  0.09212093]]\n"
     ]
    },
    {
     "data": {
      "text/plain": [
       "array([], dtype=int64)"
      ]
     },
     "execution_count": 34,
     "metadata": {},
     "output_type": "execute_result"
    }
   ],
   "source": [
    "import numpy as np\n",
    "input_dets = np.random.random((5,4))\n",
    "print(input_dets)\n",
    "sort_idx = input_dets[:, 2].argsort()[::-1]\n",
    "dets = input_dets[sort_idx, :]\n",
    "print(dets)\n",
    "np.where(dets[:,2]<=0.01)[0]"
   ]
  },
  {
   "cell_type": "code",
   "execution_count": 10,
   "metadata": {},
   "outputs": [
    {
     "name": "stdout",
     "output_type": "stream",
     "text": [
      "5641\n",
      "['v_GkDRj1GlHig.mp4', 'v_Qe-tz6I222M.mp4', 'v_4n8zXCsLycU.mp4', 'v_oDyKqL-bnVw.mp4']\n"
     ]
    }
   ],
   "source": [
    "# check_repeat video file\n",
    "\n",
    "video_name = list()\n",
    "# /mnt/Datasets/COIN/videos/0/-8NaVGEccgc.mp4\n",
    "with open(\"C:/Users/14988/Desktop/HACS_video_dir_list.txt\") as f:\n",
    "    for line in f.readlines():\n",
    "        vn = line.strip().split('/')[-1]\n",
    "        video_name.append(vn)\n",
    "print(len(video_name))\n",
    "\n",
    "visited = set()\n",
    "redundant_items = [x for x in video_name if x in visited or (visited.add(x) or False)]\n",
    "print(redundant_items)\n",
    "\n",
    "# print(video_name)\n"
   ]
  },
  {
   "cell_type": "code",
   "execution_count": 85,
   "metadata": {},
   "outputs": [
    {
     "name": "stdout",
     "output_type": "stream",
     "text": [
      "False values start at index: 2\n",
      "False values end at index: 4\n"
     ]
    }
   ],
   "source": [
    "import torch\n",
    "\n",
    "# 假设你有一个名为tensor的布尔张量\n",
    "tensor = torch.tensor([True, True, False, False, False, True, True, True])\n",
    "\n",
    "# 找到False值的开始和结束索引\n",
    "false_indices = torch.where(tensor == False)[0]\n",
    "start_index = false_indices[0]\n",
    "end_index = false_indices[-1]\n",
    "\n",
    "print(\"False values start at index:\", start_index.item())\n",
    "print(\"False values end at index:\", end_index.item())"
   ]
  },
  {
   "cell_type": "code",
   "execution_count": 3,
   "metadata": {},
   "outputs": [
    {
     "name": "stdout",
     "output_type": "stream",
     "text": [
      "tensor([[0.3682, 0.8972, 0.3394, 0.3260],\n",
      "        [0.1439, 0.8706, 0.7251, 0.2740],\n",
      "        [0.7318, 0.2247, 0.8523, 0.5513],\n",
      "        [0.4105, 0.7412, 0.4069, 0.6733],\n",
      "        [0.4753, 0.3614, 0.4514, 0.3871],\n",
      "        [0.3681, 0.5327, 0.9832, 0.0176]])\n",
      "tensor([[0.3682, 0.8972, 0.3394, 0.3260],\n",
      "        [0.1439, 0.8706, 0.7251, 0.2740],\n",
      "        [0.7318, 0.2247, 0.8523, 0.5513]])\n"
     ]
    }
   ],
   "source": [
    "import torch\n",
    "import torch.nn as nn\n",
    "\n",
    "def inverse_sigmoid(x, eps=1e-5):\n",
    "    x = x.clamp(min=0, max=1)\n",
    "    x1 = x.clamp(min=eps)\n",
    "    x2 = (1 - x).clamp(min=eps)\n",
    "    return torch.log(x1/x2)\n",
    "\n",
    "\n",
    "num_queries = 3\n",
    "feat = torch.empty((6,4)).uniform_(0,1)\n",
    "print(feat)\n",
    "idx = torch.tensor([0,1,2])\n",
    "a = feat[idx,:]\n",
    "print(a)"
   ]
  },
  {
   "cell_type": "code",
   "execution_count": 52,
   "metadata": {},
   "outputs": [
    {
     "name": "stdout",
     "output_type": "stream",
     "text": [
      "0\n"
     ]
    }
   ],
   "source": [
    "import torch\n",
    "import numpy as np\n",
    "\n",
    "a = np.array([[1,2,3],[2,3,4]])\n",
    "b = ((a[:, :0] >= 15).sum(axis=1)> 0).sum()\n",
    "print(b)"
   ]
  }
 ],
 "metadata": {
  "kernelspec": {
   "display_name": "Torch",
   "language": "python",
   "name": "python3"
  },
  "language_info": {
   "codemirror_mode": {
    "name": "ipython",
    "version": 3
   },
   "file_extension": ".py",
   "mimetype": "text/x-python",
   "name": "python",
   "nbconvert_exporter": "python",
   "pygments_lexer": "ipython3",
   "version": "3.7.12"
  },
  "orig_nbformat": 4
 },
 "nbformat": 4,
 "nbformat_minor": 2
}
